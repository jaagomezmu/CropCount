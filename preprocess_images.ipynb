{
 "cells": [
  {
   "cell_type": "code",
   "execution_count": 1,
   "metadata": {},
   "outputs": [],
   "source": [
    "# ! pip install pillow opencv-python\n",
    "# ! pip freeze > requirements.txt"
   ]
  },
  {
   "cell_type": "code",
   "execution_count": 2,
   "metadata": {},
   "outputs": [],
   "source": [
    "from pathlib import Path\n",
    "from typing import List, Tuple\n",
    "\n",
    "from PIL import Image\n",
    "\n",
    "from utils.processor import ImageAnnotatorController"
   ]
  },
  {
   "cell_type": "code",
   "execution_count": 3,
   "metadata": {},
   "outputs": [],
   "source": [
    "# RAW_DATA_PATH = Path(\"data/raw\")"
   ]
  },
  {
   "cell_type": "code",
   "execution_count": 3,
   "metadata": {},
   "outputs": [],
   "source": [
    "def crop_images(image_paths: List[Path], \n",
    "                output_dir: Path, \n",
    "                crop_size: Tuple[int, int] = (640, 640), \n",
    "                overlap: int = 0) -> None:\n",
    "    \"\"\"Crops all images in the provided list of paths into smaller 640x640 tiles and saves them.\n",
    "    \n",
    "    Args:\n",
    "        image_paths (List[Path]): List of paths to the images.\n",
    "        output_dir (Path): Directory where the cropped images will be saved.\n",
    "        crop_size (Tuple[int, int], optional): The target size for cropping (width, height). \n",
    "                                               Defaults to (640, 640).\n",
    "        overlap (int, optional): Overlap size between crops to achieve additional tiles. Defaults to 320.\n",
    "    \"\"\"\n",
    "    output_dir.mkdir(parents=True, exist_ok=True)\n",
    "    \n",
    "    crop_width, crop_height = crop_size\n",
    "    for img_path in image_paths:\n",
    "        with Image.open(img_path) as img:\n",
    "            img_width, img_height = img.size\n",
    "            crop_count = 0\n",
    "            step_x = crop_width - overlap\n",
    "            step_y = crop_height - overlap\n",
    "            for top in range(0, img_height - crop_height + 1, step_y):\n",
    "                for left in range(0, img_width - crop_width + 1, step_x):\n",
    "                    right = left + crop_width\n",
    "                    bottom = top + crop_height\n",
    "                    cropped_img = img.crop((left, top, right, bottom))\n",
    "                    crop_count += 1\n",
    "                    save_path = output_dir / f\"{img_path.stem}_crop_{crop_count}.jpg\"\n",
    "                    cropped_img.save(save_path)\n",
    "                    print(f\"Cropped and saved image: {save_path}\")\n",
    "            \n",
    "            print(f\"Total crops for {img_path.name}: {crop_count}\")"
   ]
  },
  {
   "cell_type": "code",
   "execution_count": 5,
   "metadata": {},
   "outputs": [],
   "source": [
    "# image_paths = list(RAW_DATA_PATH.glob('*.JPG'))\n",
    "# output_directory = Path(\"data/cropped_images\")\n",
    "# crop_images(image_paths, output_directory)"
   ]
  },
  {
   "cell_type": "code",
   "execution_count": null,
   "metadata": {},
   "outputs": [],
   "source": [
    "OUTPUT_DIR = 'data/cropped_labels'\n",
    "CROPPED_DATA_PATH = Path(\"data/cropped_images\")\n",
    "cropped_image_paths = list(CROPPED_DATA_PATH.glob('*.jpg'))\n",
    "\n",
    "for image in cropped_image_paths:\n",
    "    annotator = ImageAnnotatorController(image, OUTPUT_DIR)\n",
    "    annotator.run()"
   ]
  },
  {
   "cell_type": "code",
   "execution_count": null,
   "metadata": {},
   "outputs": [],
   "source": []
  }
 ],
 "metadata": {
  "kernelspec": {
   "display_name": ".venv",
   "language": "python",
   "name": "python3"
  },
  "language_info": {
   "codemirror_mode": {
    "name": "ipython",
    "version": 3
   },
   "file_extension": ".py",
   "mimetype": "text/x-python",
   "name": "python",
   "nbconvert_exporter": "python",
   "pygments_lexer": "ipython3",
   "version": "3.12.6"
  }
 },
 "nbformat": 4,
 "nbformat_minor": 2
}
